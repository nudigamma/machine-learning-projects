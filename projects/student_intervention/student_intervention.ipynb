{
 "cells": [
  {
   "cell_type": "markdown",
   "metadata": {},
   "source": [
    "# Project 2: Supervised Learning\n",
    "### Building a Student Intervention System"
   ]
  },
  {
   "cell_type": "markdown",
   "metadata": {},
   "source": [
    "## 1. Classification vs Regression\n",
    "\n",
    "Your goal is to identify students who might need early intervention - which type of supervised machine learning problem is this, classification or regression? Why?\n",
    "\n",
    "We are trying to estimate a target function that is able to distinguish between two discerete classes of students : the passed students and the failed students. these two classes are discrete and countable therefore it is a classificaiton problem . \n",
    "if it is was a regression problem we would have tried to estimate a target function that is able to predict the grades of the students given features vectors."
   ]
  },
  {
   "cell_type": "markdown",
   "metadata": {},
   "source": [
    "## 2. Exploring the Data\n",
    "\n",
    "Let's go ahead and read in the student dataset first.\n",
    "\n",
    "_To execute a code cell, click inside it and press **Shift+Enter**._"
   ]
  },
  {
   "cell_type": "code",
   "execution_count": 17,
   "metadata": {
    "collapsed": false
   },
   "outputs": [],
   "source": [
    "# Import libraries\n",
    "import numpy as np\n",
    "import pandas as pd\n",
    "import random as rand\n",
    "#from sklearn import cross_validation\n",
    "from sklearn.tree import DecisionTreeClassifier\n",
    "from sklearn.neighbors import KNeighborsClassifier\n",
    "from sklearn.metrics import f1_score\n",
    "from sklearn.naive_bayes import GaussianNB\n",
    "from sklearn.svm import SVC\n",
    "from sklearn.ensemble import AdaBoostClassifier\n",
    "\n",
    "from sklearn import cross_validation\n",
    "from sklearn.metrics import classification_report"
   ]
  },
  {
   "cell_type": "code",
   "execution_count": 18,
   "metadata": {
    "collapsed": false
   },
   "outputs": [
    {
     "name": "stdout",
     "output_type": "stream",
     "text": [
      "Student data read successfully!\n"
     ]
    }
   ],
   "source": [
    "# Read student data\n",
    "student_data = pd.read_csv(\"student-data.csv\")\n",
    "print (\"Student data read successfully!\")\n",
    "# Note: The last column 'passed' is the target/label, all other are feature columns"
   ]
  },
  {
   "cell_type": "markdown",
   "metadata": {},
   "source": [
    "Now, can you find out the following facts about the dataset?\n",
    "- Total number of students\n",
    "- Number of students who passed\n",
    "- Number of students who failed\n",
    "- Graduation rate of the class (%)\n",
    "- Number of features\n",
    "\n",
    "_Use the code block below to compute these values. Instructions/steps are marked using **TODO**s._"
   ]
  },
  {
   "cell_type": "code",
   "execution_count": 19,
   "metadata": {
    "collapsed": false
   },
   "outputs": [
    {
     "name": "stdout",
     "output_type": "stream",
     "text": [
      "Total number of students:  395\n",
      "Number of students who passed: 265\n",
      "Number of students who failed:  130\n",
      "Number of features:  30\n",
      "Graduation rate of the class 67.08860759493672\n"
     ]
    }
   ],
   "source": [
    "\n",
    "n_students = student_data.shape[0]\n",
    "# removing the column labels passed from the total count\n",
    "n_features = student_data.shape[1] - 1\n",
    "n_passed = student_data[student_data['passed'] == 'yes'].shape[0]\n",
    "n_failed = student_data[student_data['passed'] == 'no'].shape[0]\n",
    "grad_rate = float(n_passed)/ n_students * 100\n",
    "print (\"Total number of students: \",n_students)\n",
    "print (\"Number of students who passed:\",n_passed)\n",
    "print (\"Number of students who failed: \",n_failed)\n",
    "print (\"Number of features: \",n_features)\n",
    "print (\"Graduation rate of the class\",format(grad_rate))"
   ]
  },
  {
   "cell_type": "markdown",
   "metadata": {},
   "source": [
    "## 3. Preparing the Data\n",
    "In this section, we will prepare the data for modeling, training and testing.\n",
    "\n",
    "### Identify feature and target columns\n",
    "It is often the case that the data you obtain contains non-numeric features. This can be a problem, as most machine learning algorithms expect numeric data to perform computations with.\n",
    "\n",
    "Let's first separate our data into feature and target columns, and see if any features are non-numeric.<br/>\n",
    "**Note**: For this dataset, the last column (`'passed'`) is the target or label we are trying to predict."
   ]
  },
  {
   "cell_type": "code",
   "execution_count": 20,
   "metadata": {
    "collapsed": false
   },
   "outputs": [
    {
     "name": "stdout",
     "output_type": "stream",
     "text": [
      "Feature column(s):-\n",
      "{} ['school', 'sex', 'age', 'address', 'famsize', 'Pstatus', 'Medu', 'Fedu', 'Mjob', 'Fjob', 'reason', 'guardian', 'traveltime', 'studytime', 'failures', 'schoolsup', 'famsup', 'paid', 'activities', 'nursery', 'higher', 'internet', 'romantic', 'famrel', 'freetime', 'goout', 'Dalc', 'Walc', 'health', 'absences']\n",
      "Target column: {} passed\n",
      "\n",
      "Feature values:-\n",
      "  school sex  age address famsize Pstatus  Medu  Fedu     Mjob      Fjob  \\\n",
      "0     GP   F   18       U     GT3       A     4     4  at_home   teacher   \n",
      "1     GP   F   17       U     GT3       T     1     1  at_home     other   \n",
      "2     GP   F   15       U     LE3       T     1     1  at_home     other   \n",
      "3     GP   F   15       U     GT3       T     4     2   health  services   \n",
      "4     GP   F   16       U     GT3       T     3     3    other     other   \n",
      "\n",
      "    ...    higher internet  romantic  famrel  freetime goout Dalc Walc health  \\\n",
      "0   ...       yes       no        no       4         3     4    1    1      3   \n",
      "1   ...       yes      yes        no       5         3     3    1    1      3   \n",
      "2   ...       yes      yes        no       4         3     2    2    3      3   \n",
      "3   ...       yes      yes       yes       3         2     2    1    1      5   \n",
      "4   ...       yes       no        no       4         3     2    1    2      5   \n",
      "\n",
      "  absences  \n",
      "0        6  \n",
      "1        4  \n",
      "2       10  \n",
      "3        2  \n",
      "4        4  \n",
      "\n",
      "[5 rows x 30 columns]\n"
     ]
    }
   ],
   "source": [
    "# Extract feature (X) and target (y) columns\n",
    "# mind the columns attribute \n",
    "feature_cols = list(student_data.columns[:-1])  # all columns but last are features\n",
    "target_col = student_data.columns[-1]  # last column is the target/label\n",
    "print (\"Feature column(s):-\\n{}\",format(feature_cols))\n",
    "print (\"Target column: {}\",format(target_col))\n",
    "\n",
    "X_all = student_data[feature_cols]  # feature values for all students\n",
    "y_all = student_data[target_col]  # corresponding targets/labels\n",
    "print (\"\\nFeature values:-\")\n",
    "print( X_all.head() ) # print the first 5 rows"
   ]
  },
  {
   "cell_type": "markdown",
   "metadata": {},
   "source": [
    "### Preprocess feature columns\n",
    "\n",
    "As you can see, there are several non-numeric columns that need to be converted! Many of them are simply `yes`/`no`, e.g. `internet`. These can be reasonably converted into `1`/`0` (binary) values.\n",
    "\n",
    "Other columns, like `Mjob` and `Fjob`, have more than two values, and are known as _categorical variables_. The recommended way to handle such a column is to create as many columns as possible values (e.g. `Fjob_teacher`, `Fjob_other`, `Fjob_services`, etc.), and assign a `1` to one of them and `0` to all others.\n",
    "\n",
    "These generated columns are sometimes called _dummy variables_, and we will use the [`pandas.get_dummies()`](http://pandas.pydata.org/pandas-docs/stable/generated/pandas.get_dummies.html?highlight=get_dummies#pandas.get_dummies) function to perform this transformation."
   ]
  },
  {
   "cell_type": "code",
   "execution_count": 21,
   "metadata": {
    "collapsed": false
   },
   "outputs": [
    {
     "name": "stdout",
     "output_type": "stream",
     "text": [
      "Processed feature columns ({}):-\n",
      "{} (48, \"Index(['school_GP', 'school_MS', 'sex_F', 'sex_M', 'age', 'address_R',\\n       'address_U', 'famsize_GT3', 'famsize_LE3', 'Pstatus_A', 'Pstatus_T',\\n       'Medu', 'Fedu', 'Mjob_at_home', 'Mjob_health', 'Mjob_other',\\n       'Mjob_services', 'Mjob_teacher', 'Fjob_at_home', 'Fjob_health',\\n       'Fjob_other', 'Fjob_services', 'Fjob_teacher', 'reason_course',\\n       'reason_home', 'reason_other', 'reason_reputation', 'guardian_father',\\n       'guardian_mother', 'guardian_other', 'traveltime', 'studytime',\\n       'failures', 'schoolsup', 'famsup', 'paid', 'activities', 'nursery',\\n       'higher', 'internet', 'romantic', 'famrel', 'freetime', 'goout', 'Dalc',\\n       'Walc', 'health', 'absences'],\\n      dtype='object')\")\n"
     ]
    }
   ],
   "source": [
    "# Preprocess feature columns\n",
    "def preprocess_features(X):\n",
    "    outX = pd.DataFrame(index=X.index)  # output dataframe, initially empty\n",
    "\n",
    "    # Check each column\n",
    "    for col, col_data in X.iteritems():\n",
    "        # If data type is non-numeric, try to replace all yes/no values with 1/0\n",
    "        if col_data.dtype == object:\n",
    "            col_data = col_data.replace(['yes', 'no'], [1, 0])\n",
    "        # Note: This should change the data type for yes/no columns to int\n",
    "\n",
    "        # If still non-numeric, convert to one or more dummy variables\n",
    "        if col_data.dtype == object:\n",
    "            col_data = pd.get_dummies(col_data, prefix=col)  # e.g. 'school' => 'school_GP', 'school_MS'\n",
    "\n",
    "        outX = outX.join(col_data)  # collect column(s) in output dataframe\n",
    "\n",
    "    return outX\n",
    "\n",
    "X_all = preprocess_features(X_all)\n",
    "print (\"Processed feature columns ({}):-\\n{}\",(len(X_all.columns),str(X_all.columns)))"
   ]
  },
  {
   "cell_type": "markdown",
   "metadata": {},
   "source": [
    "### Split data into training and test sets\n",
    "\n",
    "So far, we have converted all _categorical_ features into numeric values. In this next step, we split the data (both features and corresponding labels) into training and test sets."
   ]
  },
  {
   "cell_type": "code",
   "execution_count": 22,
   "metadata": {
    "collapsed": false
   },
   "outputs": [
    {
     "name": "stdout",
     "output_type": "stream",
     "text": [
      "Grad rate of the training set: 67.00%\n",
      "Grad rate of the testing set: 67.37%\n"
     ]
    }
   ],
   "source": [
    "# First, decide how many training vs test samples you want\n",
    "num_all = student_data.shape[0]  # same as len(student_data)\n",
    "num_train = 300  # about 75% of the data\n",
    "num_test = num_all - num_train\n",
    "\n",
    "# TODO: Then, select features (X) and corresponding labels (y) for the training and test sets\n",
    "# Note: Shuffle the data or randomly select samples to avoid any bias due to ordering in the dataset\n",
    "# As noted by the reviewer\n",
    "# We will use stratify flag on, to assure proper sampling from each population.\n",
    "# Also the random state of the samplers is noted in case results need to be replicated.\n",
    "from sklearn.cross_validation import train_test_split\n",
    "X_train, X_test, y_train, y_test = train_test_split(X_all, y_all, stratify=y_all, test_size=0.24, random_state=50)\n",
    "\n",
    "print (\"Grad rate of the training set: {:.2f}%\".format(100 * (y_train == 'yes').mean()))\n",
    "print (\"Grad rate of the testing set: {:.2f}%\".format(100 * (y_test == 'yes').mean()))"
   ]
  },
  {
   "cell_type": "markdown",
   "metadata": {},
   "source": [
    "## 4. Training and Evaluating Models\n",
    "Choose three supervised learning models that are available in scikit-learn, and appropriate for this problem. For each model:\n",
    "\n",
    "### A. Decision Trees (DT)\n",
    "- What are the general applications of this model? What are its strengths and weaknesses?\n",
    "\n",
    " - Strength \n",
    " \n",
    "Decision trees can model inductive inference, and it can approximate discrete value functions, which applies to our case . it is robust to noisy data and can represent discrete functions. The noise source of the data, in this instance, can be the data entry filled by the students or the administration. \n",
    "\n",
    " - Weaknesses \n",
    "  \n",
    "The main concern for using the decision trees is its potential to overfit the data if no post rule pruning is applied. Sklearn implementation includes regression and classification. in addition to posting pruning rules to control the overfitting.\n",
    "\n",
    " - Applications of this model\n",
    " \n",
    " Researchers reported the use of Decision trees in predicting indivdual use of library books, classifying stars and cosmic rays from the image of bubble telecscope .\n",
    "\n",
    "http://booksite.elsevier.com/9780124438804/leondes_expert_vol1_ch3.pdf\n",
    "\n",
    "\n",
    "- Given what you know about the data so far, why did you choose this model to apply?\n",
    "\n",
    "The data in the excel sheet are discrete data that represents different classes. An attribute like ages can be still considered as discrete data for using the decision tree.\n",
    "\n",
    "- Fit this model to the training data, try to predict labels (for both training and test sets), and measure the F<sub>1</sub> score. Repeat this process with different training set sizes (100, 200, 300), keeping test set constant.\n",
    "\n",
    "Produce a table showing training time, prediction time, F<sub>1</sub> score on the training set and F<sub>1</sub> score on the test set, for each training set size.\n",
    "\n",
    "\n",
    "\n",
    "### B. KNN\n",
    "\n",
    " - What are the general applications of this model? What are its strengths and weaknesses?\n",
    " \n",
    " - Strengths\n",
    " \n",
    "K nearest neighbors can be used as a classifier and a regressor. It belongs to the family of lazy learning algorithms. Also, it can be used in unsupervised learning. \n",
    "K-NN is very simple to implement and is highly effective for many problems. It is robust to noise and when supplied with enough data is quite effective.\n",
    "\n",
    "  - Weaknesses \n",
    "The weakness of k nearest neighbors is that it requires a lot of data for it to be efficient therefore it can consume a lot of memory. K nearest neighbors inference model is postponed to the prediction phase at that stage it will start querying the instances to predict the labels. Therefore it needs a memory efficient implementation, and it is slower in its prediction compared to other learning algorithms.\n",
    "\n",
    "  - Applications of the model\n",
    "  \n",
    " It is used in satellite imagery and handwritten digits recognition.\n",
    "\n",
    "- Given what you know about the data so far, why did you choose this model to apply?\n",
    "\n",
    "The data can be considered a mixed data between continuous and discrete therefore K-NN can be implemented. Also, this type of demographic information can be very suited for K-NN since similar labels can have neighboring feature. Therefore, a close neighbor might be enough to give optimal information on the instance we are trying to predict.\n",
    "\n",
    "\n",
    "### C. Naive Bayes\n",
    "\n",
    " - What are the general applications of this model? What are its strengths and weaknesses?\n",
    "\n",
    "Bayes based classifier have become popular classifier as their performance sometimes matches other classifiers. Naiive base classifier are built on the assumption that the features of an instances are independent therefore it simplfies the search space and make the computation tractable .\n",
    " \n",
    " - Strengths\n",
    " \n",
    "Naiive bayes are easy to implement \n",
    "\n",
    "  - Weaknesses \n",
    "  \n",
    "Naive bayes weakness is that it assumes that the attributes/features of a given instances are indepedent, though this assumption works very well for classification, it is usually not the optimal classification and it provides a less than optimal probability predictive model.\n",
    "\n",
    "\n",
    "  - Applications of the model\n",
    "  \n",
    "Naiive bayes is reported to be used in text classification ( suggesting articles for readers)and researchers are using NB augmented with decision trees in decision based medicine. \n",
    "\n",
    "- Given what you know about the data so far, why did you choose this model to apply?\n",
    "\n",
    "I think , the assumption that the feautres are independent in this data set is safe therefore NB can be applied. \n",
    "\n",
    "\n",
    "### D. RBF SVM\n",
    "\n",
    "- What are the general applications of this model? What are its strengths and weaknesses?\n",
    "\n",
    "Support vector machines (SVMs) are a set of supervised learning methods used for classification, regression, and outlier detection, the SVM implementation is done in the dynamic programming language.\n",
    "\n",
    " - The strengths of SVM\n",
    " \n",
    "SVM can be used for models that have a large feature space Also it can be sufficient for the cases where the number of features is larger than the number of the samples. SVM Uses a subset of training points in the decision function (called support vectors), so it is also memory efficient. \n",
    " \n",
    " - Weakness of SVM\n",
    " \n",
    "SVM has shown weak performance once the number of features is much larger than the number of the samples.  SVMs are not directly capable of producing probability estimates; these are calculated using an expensive five-fold cross-validation.\n",
    "\n",
    " - General Applications of SVM\n",
    " \n",
    " SVM is reported to be used in Image Clustering, Cancer Diagnosis and Protein Secondary Structure Prediction and Ocean Color Remote Sensing. \n",
    " http://www3.ntu.edu.sg/home/elpwang/pdf_web/05_svm_basic.pdf\n",
    "\n",
    "\n",
    "- Given what you know about the data so far, why did you choose this model to apply?\n",
    "\n",
    "The number of the features is smaller than then number of samples. SVM can handle some 30 features.\n",
    "\n",
    "### E. AdaBoost\n",
    "\n",
    " \n",
    "\n",
    "- What are the general applications of this model? What are its strengths and weaknesses?\n",
    " \n",
    "Ada-boost algorithm belongs to boosting family of algorithm which is also considered also as part of ensemble learning algorithm. The Ada-boost is an iterative algorithm which assumes a weak learner as a base learner( doing slightly better thant chance) , at each iteration the algorithm assigns higher weights to miss classified labels .\n",
    "\n",
    "- The strengths of ADA-Boost\n",
    "Ada-Boost algorithm can work with very heterogeneous data, and their performance matches other classifiers, \n",
    "\n",
    "- The weakness of ADA-boost\n",
    "\n",
    "In the practical application of the Ada boost , the algorith perforance is influenced by uniform noise.\n",
    "\n",
    "the weakness of boosting algorithm is that they don't scale with the size of the data cause of their sequential nature. \n",
    " \n",
    "If the classifier is too complex the algorithm might overfitt the data. \n",
    "\n",
    " - Applications of ADA-Boost\n",
    "\n",
    "Viola and Jones used ADA-boost to detect faces with rectangles as weak classifiers.\n",
    "\n",
    "\n",
    "- Given what you know about the data so far, why did you choose this model to apply?\n",
    "Though most of the data is considered discrete, some of the data can be regarded as continuous as well. Therefore using Adaboost is proper in this situation.\n"
   ]
  },
  {
   "cell_type": "code",
   "execution_count": 33,
   "metadata": {
    "collapsed": false
   },
   "outputs": [],
   "source": [
    "# Train a model\n",
    "\n",
    "# Review comments : \n",
    "\n",
    "\n",
    "\n",
    "#1) It's fine to try out some parameter tuning in this section, but make sure you're also following the implementation guidelines and producing results for the default params of each model (this will enhance our comparison to the later grid search tuning).\n",
    "\n",
    "2#) Also, in order to make your results reproducible by others, you should specify random states for any classifiers as needed.\n",
    "\n",
    "\n",
    "classifiers = [\n",
    "    # Decision tree splitter is set by default to best i have set it explictely .\n",
    "    DecisionTreeClassifier(),\n",
    "    \n",
    "    # Knn has no random state to specify however it has algorithm automatic selection. it should not affect the performance \n",
    "    # of knn  in term f1_score but it might affect the computation time so i will leave it on auto . wjich selects the best \n",
    "    # computation efficient implementation .\n",
    "    \n",
    "    KNeighborsClassifier(),\n",
    "    GaussianNB(),\n",
    "    # gamma affects the influence of training points  on the support vector, a low gamma it means it includes less points in the training \n",
    "    # a high gamma more points are included in the training , a high C means a more complex decision surface (prone to overfitting)\n",
    "    # a low C mmore smooth decision surface, which means more missclassified points(high bias)\n",
    "    SVC(gamma=2, C=1),\n",
    "    AdaBoostClassifier(),\n",
    "    ]\n",
    "\n",
    "pd.options.display.float_format = '{:,.2f}'.format\n",
    "\n",
    "df_100 = pd.DataFrame(0.,index=['DT','KNN','NB','SVM RBF','Adaboosting'],columns=['training_time(ms)', 'cross_validation_training_score',\n",
    "                                                                               'f1_score_training','f1_score_testing','prediction_time'])\n",
    "df_200 = pd.DataFrame(0.,index=['DT','KNN','NB','SVM RBF','Adaboosting'],columns=['training_time(ms)', 'cross_validation_training_score',\n",
    "                                                                               'f1_score_training','f1_score_testing','prediction_time'])\n",
    "df_300 = pd.DataFrame(0.,index=['DT','KNN','NB','SVM RBF','Adaboosting'],columns=['training_time(ms)', 'cross_validation_training_score',\n",
    "                                                                               'f1_score_training','f1_score_testing','prediction_time'])\n",
    "\n",
    "\n"
   ]
  },
  {
   "cell_type": "code",
   "execution_count": 34,
   "metadata": {
    "collapsed": false
   },
   "outputs": [],
   "source": [
    "# functions that trains the classifiers , predicts the lables and \n",
    "# calculate the amount spent during training and testing \n",
    "\n",
    "from sklearn.metrics import f1_score\n",
    "import time\n",
    "\n",
    "# Train classifier and caluclate time spent in training\n",
    "def train_classifier(clf, X_train, y_train):\n",
    "    start = time.time()\n",
    "    clf.fit(X_train, y_train)\n",
    "    end = time.time()\n",
    "    time_Spent = (end - start)*1000;\n",
    "    return time_Spent\n",
    "# Predict the labels , using training and testing data\n",
    "def predict_labels(clf, features, target):\n",
    "    start = time.time()\n",
    "    y_pred = clf.predict(features)\n",
    "    end = time.time()\n",
    "    time_Spent = (end - start)*1000;\n",
    "    return f1_score(target.values, y_pred, pos_label='yes'), time_Spent\n",
    "\n",
    "# call the previous functions train_classifier and predict_labels. \n",
    "\n",
    "def train_predict(clf, X_train, y_train, X_test, y_test):\n",
    "    #print (\"------------------------------------------\")\n",
    "    #print (\"Training set size: {}\".format(len(X_train)))\n",
    "    training_time = train_classifier(clf, X_train, y_train)\n",
    "    train_f1_score, training_prediction_time = predict_labels(clf, X_train, y_train)\n",
    "    #print (\"F1 score for training set: %0.3f\" % (train_f1_score))\n",
    "    #print (\"Predicting labels using %s\" % (clf.__class__.__name__))\n",
    "    test_f1_score , test_prediction_time =(predict_labels(clf, X_test, y_test))\n",
    "    #print( \"Prediction time (msecs): %0.5f\" % (test_prediction_time))\n",
    "    #print (\"F1 score for testing set: %0.3f\" % (test_f1_score)) \n",
    "    return  training_time, train_f1_score, training_prediction_time, test_f1_score , test_prediction_time\n",
    "\n"
   ]
  },
  {
   "cell_type": "code",
   "execution_count": 38,
   "metadata": {
    "collapsed": false
   },
   "outputs": [
    {
     "name": "stderr",
     "output_type": "stream",
     "text": [
      "/home/nadim/anaconda3/lib/python3.5/site-packages/sklearn/metrics/classification.py:1074: UndefinedMetricWarning: F-score is ill-defined and being set to 0.0 in labels with no predicted samples.\n",
      "  'precision', 'predicted', average, warn_for)\n",
      "/home/nadim/anaconda3/lib/python3.5/site-packages/sklearn/metrics/classification.py:1074: UndefinedMetricWarning: F-score is ill-defined and being set to 0.0 in labels with no predicted samples.\n",
      "  'precision', 'predicted', average, warn_for)\n",
      "/home/nadim/anaconda3/lib/python3.5/site-packages/sklearn/metrics/classification.py:1074: UndefinedMetricWarning: F-score is ill-defined and being set to 0.0 in labels with no predicted samples.\n",
      "  'precision', 'predicted', average, warn_for)\n"
     ]
    },
    {
     "name": "stdout",
     "output_type": "stream",
     "text": [
      "------------------------100 Training samples ----------------------------\n",
      "             training_time(ms)  cross_validation_training_score  \\\n",
      "DT                        0.88                             0.65   \n",
      "KNN                       0.63                             0.62   \n",
      "NB                        0.98                             0.64   \n",
      "SVM RBF                   2.14                             0.54   \n",
      "Adaboosting              62.14                             0.65   \n",
      "\n",
      "             f1_score_training  f1_score_testing  prediction_time  \n",
      "DT                        0.89              0.68             0.22  \n",
      "KNN                       0.87              0.79             1.74  \n",
      "NB                        0.78              0.74             0.37  \n",
      "SVM RBF                   1.00              0.81             1.15  \n",
      "Adaboosting               0.98              0.76             6.73  \n",
      "------------------------200 Training samples ----------------------------\n",
      "             training_time(ms)  cross_validation_training_score  \\\n",
      "DT                        1.28                             0.65   \n",
      "KNN                       0.80                             0.62   \n",
      "NB                        1.11                             0.64   \n",
      "SVM RBF                   6.69                             0.54   \n",
      "Adaboosting              71.39                             0.65   \n",
      "\n",
      "             f1_score_training  f1_score_testing  prediction_time  \n",
      "DT                        0.89              0.74             0.22  \n",
      "KNN                       0.87              0.73             1.91  \n",
      "NB                        0.81              0.79             0.43  \n",
      "SVM RBF                   1.00              0.81             1.93  \n",
      "Adaboosting               0.88              0.77             7.01  \n",
      "------------------------300 Training samples ----------------------------\n",
      "             training_time(ms)  cross_validation_training_score  \\\n",
      "DT                        1.67                             0.65   \n",
      "KNN                       1.16                             0.62   \n",
      "NB                        1.25                             0.64   \n",
      "SVM RBF                  13.12                             0.54   \n",
      "Adaboosting              80.50                             0.65   \n",
      "\n",
      "             f1_score_training  f1_score_testing  prediction_time  \n",
      "DT                        0.89              0.81             0.21  \n",
      "KNN                       0.87              0.74             3.06  \n",
      "NB                        0.78              0.78             0.42  \n",
      "SVM RBF                   1.00              0.81             2.79  \n",
      "Adaboosting               0.86              0.76             6.54  \n"
     ]
    }
   ],
   "source": [
    "# Cross validation settings \n",
    "FOLDS = 3;\n",
    "TYPE_OF_SCORING ='f1_weighted';\n",
    "# TODO: Choose a model, import it and instantiate an object\n",
    "kk = 0\n",
    "\n",
    "# switch between classifiers , classifiers2, classifiers3\n",
    "for clf in classifiers:\n",
    "\n",
    "# Fit model to training data\n",
    " #print (\"Training %s\" % (clf.__class__.__name__))\n",
    " \n",
    " scores = cross_validation.cross_val_score(clf, X_train, y_train,cv=FOLDS, scoring=TYPE_OF_SCORING) \n",
    " mean_scores = scores.mean();\n",
    "\n",
    " \n",
    " df_100['cross_validation_training_score'][kk] =  mean_scores;\n",
    " df_200['cross_validation_training_score'][kk] =  mean_scores;\n",
    " df_300['cross_validation_training_score'][kk] =  mean_scores;\n",
    "# TODO: Run the helper function above for desired subsets of training data\n",
    "# Note: Keep the test set constant\n",
    " array_of_training_slice = [100 , 200, 300]\n",
    " X_train_reduced = X_train[:array_of_training_slice[0]]\n",
    " y_train_reduced = y_train[:array_of_training_slice[0]]\n",
    " training_Time,tr_f1_score,tr_prediction_time, test_f1_score,test_prediction_time= train_predict(clf,X_train_reduced,\n",
    "  \n",
    "                                                                                                 y_train_reduced,X_test,y_test)\n",
    " df_100['training_time(ms)'][kk]=  training_Time\n",
    " df_100['f1_score_training'][kk] = tr_f1_score;\n",
    " df_100['f1_score_testing'][kk] = test_f1_score\n",
    " df_100['prediction_time'][kk] = test_prediction_time\n",
    "    \n",
    "    \n",
    " X_train_reduced = X_train[:array_of_training_slice[1]]\n",
    " y_train_reduced = y_train[:array_of_training_slice[1]]\n",
    " training_Time,tr_f1_score,tr_prediction_time, test_f1_score,test_prediction_time= train_predict(clf,X_train_reduced,\n",
    "             \n",
    "                                                                                                 y_train_reduced,X_test,y_test)\n",
    " df_200['training_time(ms)'][kk]=  training_Time\n",
    " df_200['f1_score_training'][kk] = tr_f1_score;\n",
    " df_200['f1_score_testing'][kk] = test_f1_score\n",
    " df_200['prediction_time'][kk] = test_prediction_time\n",
    "    \n",
    "    \n",
    "    \n",
    " X_train_reduced = X_train[:array_of_training_slice[2]]\n",
    " y_train_reduced = y_train[:array_of_training_slice[2]]\n",
    " training_Time,tr_f1_score,tr_prediction_time, test_f1_score,test_prediction_time= train_predict(clf,X_train_reduced,\n",
    "                                                                                                 y_train_reduced,X_test,y_test)\n",
    " df_300['training_time(ms)'][kk]=  training_Time\n",
    " df_300['f1_score_training'][kk] = tr_f1_score;\n",
    " df_300['f1_score_testing'][kk] = test_f1_score\n",
    " df_300['prediction_time'][kk] = test_prediction_time\n",
    " kk= kk +1;\n",
    "print('------------------------100 Training samples ----------------------------')\n",
    "print(df_100)\n",
    "print('------------------------200 Training samples ----------------------------')\n",
    "print(df_200)\n",
    "print('------------------------300 Training samples ----------------------------')\n",
    "print(df_300)\n"
   ]
  },
  {
   "cell_type": "markdown",
   "metadata": {},
   "source": [
    "## 5. Choosing the Best Model\n",
    "\n",
    "- Based on the experiments you performed earlier, in 1-2 paragraphs explain to the board of supervisors what single model you chose as the best model. Which model is the most appropriate based on the available data, limited resources, cost, and performance?\n",
    "\n",
    "I chose the K-NN as the best model for this data. K-NN has shown high performance throughout the sample training size of 100, 200,300 of f1_score_testing of 0.79, 0.73 and 0.74. SVM-RBF shows higher f1-score for small sample size however it is training time and computing efficiency is almost doubling the size of the data and its prediction time is similar to K-NN. At 300 sample size, K-NN performance is as good as SVM-RBF with less prediction time and training time.\n",
    "Adaptive boosting performed better than K-NN for all training sample size, slightly outperforming K-NN for a training sample size of 300. However, the training_time is much bigger than the training time for K-NN and also the prediction time is twice as the K-NN.\n",
    "Given the limited resources cost and performance I would say the K-NN is the best model. Please note that Adaptive boosting training time is almost 50 ms, on an Intel i7 four cores. I consider this setup as a standard computing  configuration. Depending on the available hardware of the school and the available data , I would say Ada-boosting is the best choice, however if the number of data will increase then the best choice so far will be K-NN .\n",
    "\n",
    "- In 1-2 paragraphs explain to the board of supervisors in layman's terms how the final model was chosen is supposed to work (for example, if you chose a Decision Tree or Support Vector Machine, how does it make a prediction).\n",
    "\n",
    "K-NN algorithm stands for K nearest neighbors, where K is the number of neighbors that are taken into consideration while classifying a student. Neighbors have close properties to the data we are trying to predict. For example let us assume we have five students with absences: 10, 12,20, 2,5  and the first three failed an exam while the last two passed. A student with 15 absences will most likely fail an exam, and a student of 4 absences will most likely pass an exam. The student with 15 absences will most likely fail the exam because for K = 3, or the closest three neighbors have 10, 12 and 20 absences, and they failed the exam. On the opposite end of the spectrum, the student with four absences might pass the exam because for K =2, or the closest two neighbors passed the exam.\n",
    "Now for the case of a student with six absences what K-NN might predict?  It will depend on the number of neighbors we will take into consideration. If we take k = 3, the nearest neighbors are  students with 10 absences, 5 and 2 absences where one has failed, and the other two have passed respectively; the student will most likely pass the exam, however, if we take into consideration all five neighbors k =5, the student will most likely fail.\n",
    "\n",
    "\n",
    "\n",
    "- Fine-tune the model. Use Gridsearch with at least one important parameter tuned and with at least three settings. Use the entire training set for this.\n",
    "\n",
    "One of the important parameter to tune in K-NN is the number of neighbors.also if we need to weight the distances from the neighbors or not. \n",
    "- What is the model's final F<sub>1</sub> score?\n",
    "0.79, which is better than for the default setting neighbors =5; "
   ]
  },
  {
   "cell_type": "code",
   "execution_count": 36,
   "metadata": {
    "collapsed": false
   },
   "outputs": [
    {
     "name": "stdout",
     "output_type": "stream",
     "text": [
      "Best model parameter: {'n_neighbors': 34}\n",
      "F1_score 0.794871794872\n",
      "             precision    recall  f1-score   support\n",
      "\n",
      "         no       0.33      0.03      0.06        31\n",
      "        yes       0.67      0.97      0.79        64\n",
      "\n",
      "avg / total       0.56      0.66      0.55        95\n",
      "\n"
     ]
    }
   ],
   "source": [
    "# TODO: Fine-tune your model and report the best F1 score\n",
    "from sklearn.grid_search import GridSearchCV \n",
    "import sklearn.metrics as metrics\n",
    "\n",
    "number_Neighbours_knn = {'n_neighbors' : np.arange(1,100)}\n",
    "clf = KNeighborsClassifier();\n",
    "\n",
    "\n",
    "\n",
    "#f1_scorer = metrics.make_scorer(f1_score,pos_label=None,average='weighted');\n",
    "\n",
    "f1_scorer = metrics.make_scorer(f1_score,pos_label='yes')\n",
    "classifier= GridSearchCV(clf,number_Neighbours_knn,f1_scorer)\n",
    "classifier.fit(X_train,y_train)\n",
    "\n",
    "y_predict = classifier.predict(X_test)\n",
    "\n",
    "\n",
    "\n",
    "print (\"Best model parameter: \" + str(classifier.best_params_))\n",
    "print('F1_score',f1_score(y_test.values, y_predict, pos_label='yes'))\n",
    "print (classification_report(y_test, classifier.predict(X_test)))"
   ]
  },
  {
   "cell_type": "code",
   "execution_count": null,
   "metadata": {
    "collapsed": true
   },
   "outputs": [],
   "source": []
  },
  {
   "cell_type": "code",
   "execution_count": null,
   "metadata": {
    "collapsed": true
   },
   "outputs": [],
   "source": []
  },
  {
   "cell_type": "code",
   "execution_count": null,
   "metadata": {
    "collapsed": true
   },
   "outputs": [],
   "source": []
  },
  {
   "cell_type": "code",
   "execution_count": null,
   "metadata": {
    "collapsed": true
   },
   "outputs": [],
   "source": []
  }
 ],
 "metadata": {
  "kernelspec": {
   "display_name": "Python 3",
   "language": "python",
   "name": "python3"
  },
  "language_info": {
   "codemirror_mode": {
    "name": "ipython",
    "version": 3
   },
   "file_extension": ".py",
   "mimetype": "text/x-python",
   "name": "python",
   "nbconvert_exporter": "python",
   "pygments_lexer": "ipython3",
   "version": "3.5.1"
  }
 },
 "nbformat": 4,
 "nbformat_minor": 0
}
